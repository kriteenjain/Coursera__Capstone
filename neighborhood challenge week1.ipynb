{
    "cells": [
        {
            "cell_type": "markdown",
            "metadata": {
                "collapsed": true
            },
            "source": "<h1> Introduction/ Buisness Plan <h1>"
        },
        {
            "cell_type": "markdown",
            "metadata": {},
            "source": "<h2> Background </h2>"
        },
        {
            "cell_type": "markdown",
            "metadata": {},
            "source": "Hello, my family is planning to move to Toronto Canada. We are in search of a house that is near a good school and is afforfadable for my family. We also want a house that is near many venues such as shopping malls, movie theaters, cafes, grocery stores, and etc. "
        },
        {
            "cell_type": "markdown",
            "metadata": {},
            "source": "<h2> Who is supposed to benefit from this? </h2>"
        },
        {
            "cell_type": "markdown",
            "metadata": {},
            "source": "There are many people that migrate to the country every year. Every family is looking to settle in an area that is cost efficent, has good schools, and is surrounded by many venues. This Project aim to create an analysis of features for a people migrating to Toronto to search a best neighborhood as a comparative analysis between neighborhoods. The features include median housing price and better school according to ratings, crime rates of that particular area, weather conditions, good management for emergency, resturants, and malls.\n\nIt will help people to get awareness of the area and neighborhood before moving to a new city, state, country or place for their work or to start a new fresh life."
        },
        {
            "cell_type": "markdown",
            "metadata": {},
            "source": "<h2> Problem trying to Solve </h2>"
        },
        {
            "cell_type": "markdown",
            "metadata": {},
            "source": "<ol>\n    <li> To find the cheapest a house that it cheap</li>\n    <li> To find a house that is close to many known venues</li>"
        },
        {
            "cell_type": "markdown",
            "metadata": {},
            "source": "<h2> Libraries which are used in this project </h2>"
        },
        {
            "cell_type": "markdown",
            "metadata": {},
            "source": "<ul>\n    <li>Pandas: For creating and manipulating dataframes.\n    <li>Folium: Python visualization library would be used to visualize the neighborhoods cluster distribution of using interactive leaflet map.\n    <li>Scikit Learn: For importing k-means clustering.\n    <li>JSON: Library to handle JSON files.\n    <li>XML: To separate data from presentation and XML stores data in plain text format.\n    <li>Geocoder: To retrieve Location Data.\n    <li>Beautiful Soup and Requests: To scrap and library to handle http requests.\n    <li>Matplotlib: Python Plotting Module."
        },
        {
            "cell_type": "code",
            "execution_count": null,
            "metadata": {},
            "outputs": [],
            "source": ""
        }
    ],
    "metadata": {
        "kernelspec": {
            "display_name": "Python 3.6",
            "language": "python",
            "name": "python3"
        },
        "language_info": {
            "codemirror_mode": {
                "name": "ipython",
                "version": 3
            },
            "file_extension": ".py",
            "mimetype": "text/x-python",
            "name": "python",
            "nbconvert_exporter": "python",
            "pygments_lexer": "ipython3",
            "version": "3.6.9"
        }
    },
    "nbformat": 4,
    "nbformat_minor": 1
}