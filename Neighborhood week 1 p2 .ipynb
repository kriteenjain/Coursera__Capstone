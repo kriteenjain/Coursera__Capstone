{
    "cells": [
        {
            "cell_type": "markdown",
            "metadata": {
                "collapsed": true
            },
            "source": "<h1> The Battle of Neighborhoods | Data Description</h1>"
        },
        {
            "cell_type": "markdown",
            "metadata": {},
            "source": "<h2> Data Description:<h2>"
        },
        {
            "cell_type": "markdown",
            "metadata": {},
            "source": "Data Link: https://en.wikipedia.org/wiki/List_of_postal_codes_of_Canada:_M\n\nWill use Scarborough dataset which we used in Week 3. Dataset consisting of latitude and longitude, zip codes."
        },
        {
            "cell_type": "markdown",
            "metadata": {},
            "source": "<h2> Data to be used in research </h2>"
        },
        {
            "cell_type": "code",
            "execution_count": null,
            "metadata": {},
            "outputs": [],
            "source": ""
        }
    ],
    "metadata": {
        "kernelspec": {
            "display_name": "Python 3.6",
            "language": "python",
            "name": "python3"
        },
        "language_info": {
            "codemirror_mode": {
                "name": "ipython",
                "version": 3
            },
            "file_extension": ".py",
            "mimetype": "text/x-python",
            "name": "python",
            "nbconvert_exporter": "python",
            "pygments_lexer": "ipython3",
            "version": "3.6.9"
        }
    },
    "nbformat": 4,
    "nbformat_minor": 1
}